{
 "cells": [
  {
   "cell_type": "code",
   "execution_count": 1,
   "metadata": {},
   "outputs": [
    {
     "name": "stdout",
     "output_type": "stream",
     "text": [
      "No module named 'phonopy'\n",
      "No module named 'phonopy'\n"
     ]
    }
   ],
   "source": [
    "import torch\n",
    "import os.path as osp\n",
    "from args import *\n",
    "from train import *\n",
    "from dataset import *"
   ]
  },
  {
   "cell_type": "code",
   "execution_count": 2,
   "metadata": {},
   "outputs": [],
   "source": [
    "hypo_dataset = HypoDataset(args)"
   ]
  },
  {
   "cell_type": "code",
   "execution_count": 5,
   "metadata": {},
   "outputs": [],
   "source": [
    "dataset = hypo_dataset[0]\n",
    "dataloader = DataLoader(dataset, batch_size=len(dataset), shuffle=False)"
   ]
  },
  {
   "cell_type": "code",
   "execution_count": 8,
   "metadata": {},
   "outputs": [
    {
     "name": "stdout",
     "output_type": "stream",
     "text": [
      "tensor([     1,      2,      3,  ..., 125428, 125429, 125430])\n"
     ]
    }
   ],
   "source": [
    "for i in dataloader:\n",
    "    print(i.id)"
   ]
  },
  {
   "cell_type": "code",
   "execution_count": 20,
   "metadata": {},
   "outputs": [
    {
     "name": "stdout",
     "output_type": "stream",
     "text": [
      "125430\n",
      "125430\n",
      "125430\n",
      "125430\n",
      "125430\n",
      "125430\n",
      "125430\n",
      "125430\n",
      "125430\n",
      "125700\n"
     ]
    }
   ],
   "source": [
    "total = 0\n",
    "for idx, data in enumerate(hypo_dataset):\n",
    "    total += len(data)\n",
    "    print(len(data))\n",
    "    # print(idx)\n",
    "    # begin = data[0].id - 30\n",
    "    # for i, d in enumerate(data):\n",
    "    #     d.id = i + begin\n",
    "    # torch.save(data, osp.join(args[\"hypothesis_dataset\"][\"data_dir\"], f\"{args['hypothesis_dataset']['data_filename']}_{idx+1}.pt\"))"
   ]
  },
  {
   "cell_type": "code",
   "execution_count": 4,
   "metadata": {},
   "outputs": [
    {
     "data": {
      "text/plain": [
       "Data(edge_index=[2, 56], edge_attr=[56, 1], x=[8, 84], id=1128871)"
      ]
     },
     "execution_count": 4,
     "metadata": {},
     "output_type": "execute_result"
    }
   ],
   "source": [
    "hypo_dataset[9][0]"
   ]
  }
 ],
 "metadata": {
  "kernelspec": {
   "display_name": "NN",
   "language": "python",
   "name": "python3"
  },
  "language_info": {
   "codemirror_mode": {
    "name": "ipython",
    "version": 3
   },
   "file_extension": ".py",
   "mimetype": "text/x-python",
   "name": "python",
   "nbconvert_exporter": "python",
   "pygments_lexer": "ipython3",
   "version": "3.11.5"
  }
 },
 "nbformat": 4,
 "nbformat_minor": 2
}
