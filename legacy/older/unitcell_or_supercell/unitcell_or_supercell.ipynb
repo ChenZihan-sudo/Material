{
 "cells": [
  {
   "cell_type": "code",
   "execution_count": 1,
   "metadata": {},
   "outputs": [
    {
     "name": "stdout",
     "output_type": "stream",
     "text": [
      "No module named 'phonopy'\n",
      "No module named 'phonopy'\n"
     ]
    },
    {
     "data": {
      "application/vnd.jupyter.widget-view+json": {
       "model_id": "c159278b4b1f4d79903e1e9b57085f21",
       "version_major": 2,
       "version_minor": 0
      },
      "text/plain": [
       "Retrieving SummaryDoc documents:   0%|          | 0/2 [00:00<?, ?it/s]"
      ]
     },
     "metadata": {},
     "output_type": "display_data"
    }
   ],
   "source": [
    "from ase import io\n",
    "from mp_api.client import MPRester\n",
    "\n",
    "with MPRester(\"j61NN3yuDh8tQWf0OrkachbbUoJ8npVP\") as mpr:\n",
    "    docs = mpr.materials.summary.search(material_ids=[\"mp-1215166\", \"mp-1206080\"])"
   ]
  },
  {
   "cell_type": "code",
   "execution_count": 2,
   "metadata": {},
   "outputs": [],
   "source": [
    "docs[0].structure.to_file(filename=\"f1.cif\", fmt=\"cif\")\n",
    "\n",
    "atoms = io.read(\"f1.cif\")\n",
    "atoms.write(\"POSCAR1\", format=\"vasp\")"
   ]
  },
  {
   "cell_type": "code",
   "execution_count": 14,
   "metadata": {},
   "outputs": [
    {
     "name": "stdout",
     "output_type": "stream",
     "text": [
      "Full Formula (Zr2 Zn4 Ge2)\n",
      "Reduced Formula: ZrZn2Ge\n",
      "abc   :   9.028145   9.028145   9.028145\n",
      "angles: 154.383417 154.383417  36.542554\n",
      "pbc   :       True       True       True\n",
      "Sites (8)\n",
      "  #  SP           a         b    c\n",
      "---  ----  --------  --------  ---\n",
      "  0  Zr    0.126104  0.126104  0\n",
      "  1  Zr    0.873896  0.873896  0\n",
      "  2  Zn    0.394735  0.394735  0\n",
      "  3  Zn    0.605265  0.605265  0\n",
      "  4  Zn    0.5       1         0.5\n",
      "  5  Zn    0         0.5       0.5\n",
      "  6  Ge    0.75      0.25      0.5\n",
      "  7  Ge    0.25      0.75      0.5\n",
      "Full Formula (Zr4 Zn8 Ge4)\n",
      "Reduced Formula: ZrZn2Ge\n",
      "abc   :   4.002892   4.002892  17.145942\n",
      "angles:  90.000000  90.000000  90.000000\n",
      "pbc   :       True       True       True\n",
      "Sites (16)\n",
      "  #  SP      a    b         c\n",
      "---  ----  ---  ---  --------\n",
      "  0  Zr    0    0    0.126104\n",
      "  1  Zr    0.5  0.5  0.373896\n",
      "  2  Zr    0.5  0.5  0.626104\n",
      "  3  Zr    0    0    0.873896\n",
      "  4  Zn    0    0    0.394735\n",
      "  5  Zn    0.5  0.5  0.105265\n",
      "  6  Zn    0    0.5  0\n",
      "  7  Zn    0.5  0    0\n",
      "  8  Zn    0.5  0.5  0.894735\n",
      "  9  Zn    0    0    0.605265\n",
      " 10  Zn    0.5  0    0.5\n",
      " 11  Zn    0    0.5  0.5\n",
      " 12  Ge    0    0.5  0.25\n",
      " 13  Ge    0.5  0    0.25\n",
      " 14  Ge    0.5  0    0.75\n",
      " 15  Ge    0    0.5  0.75\n"
     ]
    }
   ],
   "source": [
    "x = docs[1].structure.to_primitive()\n",
    "x = x.to_conventional()"
   ]
  },
  {
   "cell_type": "code",
   "execution_count": 3,
   "metadata": {},
   "outputs": [],
   "source": [
    "docs[1].structure.to_file(filename=\"f2.cif\", fmt=\"cif\")\n",
    "\n",
    "atoms = io.read(\"f2.cif\")\n",
    "atoms.write(\"POSCAR2\", format=\"vasp\")"
   ]
  }
 ],
 "metadata": {
  "kernelspec": {
   "display_name": "NN",
   "language": "python",
   "name": "python3"
  },
  "language_info": {
   "codemirror_mode": {
    "name": "ipython",
    "version": 3
   },
   "file_extension": ".py",
   "mimetype": "text/x-python",
   "name": "python",
   "nbconvert_exporter": "python",
   "pygments_lexer": "ipython3",
   "version": "3.11.5"
  }
 },
 "nbformat": 4,
 "nbformat_minor": 2
}
