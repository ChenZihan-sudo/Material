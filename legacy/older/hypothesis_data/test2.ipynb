{
 "cells": [
  {
   "cell_type": "code",
   "execution_count": null,
   "metadata": {},
   "outputs": [],
   "source": [
    "import torch\n",
    "import matplotlib.pyplot as plt\n",
    "\n",
    "import time\n",
    "\n",
    "import os.path as osp\n",
    "import numpy as np\n",
    "\n",
    "from dataset import *\n",
    "from train import make_data_loader, train_step, test_evaluations, save_model_GCN\n",
    "from utils import get_device, plot_training_progress\n",
    "from model import GCNNetwork, CEALNetwork\n",
    "\n",
    "from args import *\n",
    "from utils import *\n",
    "\n",
    "from tqdm import tqdm\n",
    "from IPython.display import clear_output as ipyclear"
   ]
  },
  {
   "cell_type": "code",
   "execution_count": null,
   "metadata": {},
   "outputs": [],
   "source": [
    "dataset = MPDataset(args)"
   ]
  },
  {
   "cell_type": "code",
   "execution_count": null,
   "metadata": {},
   "outputs": [],
   "source": [
    "print(dataset[0])"
   ]
  },
  {
   "cell_type": "code",
   "execution_count": null,
   "metadata": {},
   "outputs": [],
   "source": [
    "hypo_args = args[\"hypothesis_dataset\"]\n",
    "path = osp.join(args[\"processed_dir\"], \"data.pt\")\n",
    "\n",
    "osp.exists(path)"
   ]
  },
  {
   "cell_type": "code",
   "execution_count": 1,
   "metadata": {},
   "outputs": [
    {
     "name": "stdout",
     "output_type": "stream",
     "text": [
      "No module named 'phonopy'\n",
      "No module named 'phonopy'\n"
     ]
    },
    {
     "data": {
      "text/plain": [
       "HypoDataset(10)"
      ]
     },
     "execution_count": 1,
     "metadata": {},
     "output_type": "execute_result"
    }
   ],
   "source": [
    "from dataset import *\n",
    "from args import *\n",
    "HypoDataset(args)\n",
    "# make_hypothesis_compounds_dataset(args)"
   ]
  },
  {
   "cell_type": "code",
   "execution_count": null,
   "metadata": {},
   "outputs": [],
   "source": [
    "sum = 1234\n",
    "indices = list(range(0, sum))\n",
    "\n",
    "step = int(len(indices) / 10)\n",
    "print(step)\n",
    "save_point = [i + step - 1 for i in indices[::step]]\n",
    "if save_point[-1] > sum:\n",
    "    save_point = save_point[:-1]\n",
    "    save_point[-1] = sum - 1\n",
    "print(save_point)\n",
    "\n",
    "track = 0\n",
    "a = []\n",
    "saves = []\n",
    "for i in range(0, sum):\n",
    "    saves.append(i)\n",
    "    if save_point[track] == i:\n",
    "        track += 1\n",
    "        print(\"save data on \", i)\n",
    "        a.append(saves)\n",
    "        saves = []\n",
    "print(a)"
   ]
  }
 ],
 "metadata": {
  "kernelspec": {
   "display_name": "NN",
   "language": "python",
   "name": "python3"
  },
  "language_info": {
   "codemirror_mode": {
    "name": "ipython",
    "version": 3
   },
   "file_extension": ".py",
   "mimetype": "text/x-python",
   "name": "python",
   "nbconvert_exporter": "python",
   "pygments_lexer": "ipython3",
   "version": "3.11.5"
  }
 },
 "nbformat": 4,
 "nbformat_minor": 2
}
