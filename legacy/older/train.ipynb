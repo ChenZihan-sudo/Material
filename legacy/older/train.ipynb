{
 "cells": [
  {
   "cell_type": "code",
   "execution_count": null,
   "metadata": {},
   "outputs": [],
   "source": [
    "from torch_geometric.loader import DataLoader\n",
    "import matplotlib.pyplot as plt\n",
    "import time\n",
    "\n",
    "from dataset import *\n",
    "from args import *\n",
    "from train import *\n",
    "from model import *\n",
    "\n",
    "train_set, test_set, val_set = make_dataset(args)"
   ]
  },
  {
   "cell_type": "markdown",
   "metadata": {},
   "source": [
    "average num of edges"
   ]
  },
  {
   "cell_type": "code",
   "execution_count": null,
   "metadata": {},
   "outputs": [],
   "source": [
    "import math\n",
    "import numpy as np\n",
    "\n",
    "edge = [d.num_edges for i, d in enumerate(train_set)]\n",
    "num_edge_array = np.array(edge)\n",
    "print(train_set[0])\n",
    "print(\"num_edges:\", math.floor(num_edge_array.mean()))"
   ]
  },
  {
   "cell_type": "code",
   "execution_count": null,
   "metadata": {},
   "outputs": [],
   "source": [
    "device = get_device()\n",
    "\n",
    "train_set, test_set, val_set = make_dataset(args)\n",
    "\n",
    "(\n",
    "    train_data_loader,\n",
    "    test_data_loader,\n",
    "    val_data_loader,\n",
    ") = make_data_loader(train_set, test_set, val_set)\n",
    "\n",
    "in_channels = train_set[0].x.shape[-1]\n",
    "out_channels = 50\n",
    "\n",
    "model = GCNNetwork(in_channels, out_channels)\n",
    "model.to(device)\n",
    "\n",
    "optimizer = torch.optim.Adam(model.parameters(), lr=args[\"learning_rate\"])\n",
    "scheduler = torch.optim.lr_scheduler.ReduceLROnPlateau(optimizer, mode=\"min\", factor=0.8, patience=50, min_lr=1e-8)"
   ]
  },
  {
   "cell_type": "code",
   "execution_count": 5,
   "metadata": {},
   "outputs": [],
   "source": [
    "# extract\n",
    "train_data_loader = [d for i, d in enumerate(train_data_loader)]\n",
    "test_data_loader = [d for i, d in enumerate(test_data_loader)]\n",
    "val_data_loader = [d for i, d in enumerate(val_data_loader)]"
   ]
  },
  {
   "cell_type": "code",
   "execution_count": 10,
   "metadata": {},
   "outputs": [
    {
     "name": "stdout",
     "output_type": "stream",
     "text": [
      "DataBatch(edge_index=[2, 1970], edge_attr=[1970, 1], x=[162, 1], y=[10], batch=[162], ptr=[11])\n",
      "<class 'torch.device'>\n"
     ]
    }
   ],
   "source": [
    "print(train_data_loader[0])\n",
    "print(type(device))"
   ]
  },
  {
   "cell_type": "code",
   "execution_count": 4,
   "metadata": {},
   "outputs": [
    {
     "name": "stdout",
     "output_type": "stream",
     "text": [
      "No module named 'phonopy'\n",
      "No module named 'phonopy'\n",
      "No module named 'phonopy'\n",
      "No module named 'phonopy'\n",
      "No module named 'phonopy'\n",
      "No module named 'phonopy'\n",
      "No module named 'phonopy'\n",
      "No module named 'phonopy'\n"
     ]
    },
    {
     "ename": "",
     "evalue": "",
     "output_type": "error",
     "traceback": [
      "\u001b[1;31m在当前单元格或上一个单元格中执行代码时 Kernel 崩溃。\n",
      "\u001b[1;31m请查看单元格中的代码，以确定故障的可能原因。\n",
      "\u001b[1;31m单击<a href='https://aka.ms/vscodeJupyterKernelCrash'>此处</a>了解详细信息。\n",
      "\u001b[1;31m有关更多详细信息，请查看 Jupyter <a href='command:jupyter.viewOutput'>log</a>。"
     ]
    }
   ],
   "source": [
    "model.train()\n",
    "total_loss = 0.0\n",
    "for i, data in enumerate(train_data_loader):\n",
    "        # data = train_data_loader[0]\n",
    "        data = data.to(device)\n",
    "        optimizer.zero_grad()\n",
    "        out = model(data)  # [batch_size, formation_energy_per_atom]\n",
    "        # # use Mean Absolute Error to calculate loss\n",
    "        # loss = (out.squeeze() - data.y).abs().mean()\n",
    "        # print(\"单图损失: \", loss)\n",
    "        # loss.backward()\n",
    "        # optimizer.step()\n",
    "        # total_loss += loss.item() * data.num_graphs"
   ]
  },
  {
   "cell_type": "code",
   "execution_count": 9,
   "metadata": {},
   "outputs": [],
   "source": [
    "def train_step(model, train_data_loader, optimizer, device):\n",
    "    model.train()\n",
    "    total_loss = 0.0\n",
    "    for i, data in enumerate(train_data_loader):\n",
    "        # data = train_data_loader[0]\n",
    "        data = data.to(device)\n",
    "        optimizer.zero_grad()\n",
    "        out = model(data)  # [batch_size, formation_energy_per_atom]\n",
    "        # use Mean Absolute Error to calculate loss\n",
    "        loss = (out.squeeze() - data.y).abs().mean()\n",
    "        print(\"单图损失: \", loss)\n",
    "        loss.backward()\n",
    "        optimizer.step()\n",
    "        total_loss += loss.item() * data.num_graphs\n",
    "    loss = total_loss / len(train_data_loader)\n",
    "    return model, loss\n",
    "\n",
    "\n",
    "@torch.no_grad()\n",
    "def test_evaluations(model, data_loader, device):\n",
    "    model.eval()\n",
    "    total_loss = 0.0\n",
    "\n",
    "    res_out = torch.zeros(0).to(device)\n",
    "    res_y = torch.zeros(0).to(device)\n",
    "\n",
    "    with torch.no_grad():\n",
    "        for i, data in enumerate(data_loader):\n",
    "            data = data.to(device)\n",
    "            out = model(data)\n",
    "            total_loss += (out.squeeze() - data.y).abs().sum().item()\n",
    "\n",
    "            res_out = torch.cat((res_out, out), 0)\n",
    "            res_y = torch.cat((res_y, data.y), 0)\n",
    "\n",
    "    loss = total_loss / len(data_loader)\n",
    "    return loss, res_out, res_y"
   ]
  },
  {
   "cell_type": "code",
   "execution_count": 10,
   "metadata": {},
   "outputs": [
    {
     "data": {
      "image/png": "[encoded data removed]",
      "text/plain": [
       "<Figure size 800x600 with 1 Axes>"
      ]
     },
     "metadata": {},
     "output_type": "display_data"
    }
   ],
   "source": [
    "import matplotlib.pyplot as plt\n",
    "from matplotlib.lines import Line2D\n",
    "\n",
    "plt.figure(figsize=(8, 6))\n",
    "plt.xlabel(\"Epoch\")\n",
    "plt.ylabel(\"Loss\")\n",
    "plt.title(\"Loss vs. Epoch during Training\")\n",
    "plt.grid(True)\n",
    "\n",
    "\n",
    "# Plot the training progress\n",
    "def plot_training_progress(epoch, train_losses, val_losses, test_losses, title):\n",
    "    lw = 0.7  # linewidth\n",
    "    ms = 0.7  # markersize\n",
    "\n",
    "    # threshold = 1\n",
    "    # for i in range(len(train_losses)):\n",
    "    #     if train_losses[i] > threshold:\n",
    "    #         train_losses[i] = threshold\n",
    "    #     if val_losses[i] > threshold:\n",
    "    #         val_losses[i] = threshold\n",
    "    #     if test_losses[i] > threshold:\n",
    "    #         test_losses[i] = threshold\n",
    "\n",
    "    plt.plot(\n",
    "        range(1, epoch + 1, 10),\n",
    "        train_losses,\n",
    "        marker=\"o\",\n",
    "        linestyle=\"-\",\n",
    "        color=\"b\",\n",
    "        lw=lw,\n",
    "        ms=ms,\n",
    "    )\n",
    "    plt.plot(\n",
    "        range(1, epoch + 1, 10),\n",
    "        val_losses,\n",
    "        marker=\"s\",\n",
    "        linestyle=\"-\",\n",
    "        color=\"r\",\n",
    "        lw=lw,\n",
    "        ms=ms,\n",
    "    )\n",
    "    plt.plot(\n",
    "        range(1, epoch + 1, 10),\n",
    "        test_losses,\n",
    "        marker=\"*\",\n",
    "        linestyle=\"-\",\n",
    "        color=\"g\",\n",
    "        lw=lw,\n",
    "        ms=ms,\n",
    "    )\n",
    "\n",
    "    legend_entries = [\n",
    "        Line2D([0], [0], color=\"blue\", label=\"train_loss (Blue)\"),\n",
    "        Line2D([0], [0], color=\"red\", label=\"validate_loss (Red)\"),\n",
    "        Line2D([0], [0], color=\"green\", label=\"test_loss (Green)\"),\n",
    "    ]\n",
    "    plt.title(title)\n",
    "\n",
    "    plt.legend(handles=legend_entries, loc=\"upper right\")\n",
    "    plt.pause(0.001)"
   ]
  },
  {
   "cell_type": "code",
   "execution_count": 11,
   "metadata": {},
   "outputs": [
    {
     "ename": "",
     "evalue": "",
     "output_type": "error",
     "traceback": [
      "\u001b[1;31m在当前单元格或上一个单元格中执行代码时 Kernel 崩溃。\n",
      "\u001b[1;31m请查看单元格中的代码，以确定故障的可能原因。\n",
      "\u001b[1;31m单击<a href='https://aka.ms/vscodeJupyterKernelCrash'>此处</a>了解详细信息。\n",
      "\u001b[1;31m有关更多详细信息，请查看 Jupyter <a href='command:jupyter.viewOutput'>log</a>。"
     ]
    }
   ],
   "source": [
    "epochs = args[\"epochs\"]\n",
    "\n",
    "train_losses = []\n",
    "test_losses = []\n",
    "val_losses = []\n",
    "\n",
    "for epoch in range(1, 2):\n",
    "    model, train_loss = train_step(model, train_data_loader, optimizer, device)\n",
    "    test_loss, test_out, test_y = test_evaluations(model, test_data_loader, device)\n",
    "    val_loss, val_out, val_y = test_evaluations(model, val_data_loader, device)\n",
    "\n",
    "    # Use val_loss to scheduler\n",
    "    scheduler.step(val_loss)\n",
    "\n",
    "    current_lr = optimizer.param_groups[0][\"lr\"]\n",
    "    progress_msg = (\n",
    "        \"Epoch \"\n",
    "        + str(epoch)\n",
    "        + \", training loss(MAE)=\"\n",
    "        + str(round(train_loss, 4))\n",
    "        + \", Validating loss(MAE)=\"\n",
    "        + str(round(val_loss, 4))\n",
    "        + \", testing loss(MAE)=\"\n",
    "        + str(round(test_loss, 4))\n",
    "        + \", lr=\"\n",
    "        + str(round(current_lr, 8))\n",
    "    )\n",
    "    print(progress_msg)\n",
    "\n",
    "    train_losses.append(train_loss)\n",
    "    test_losses.append(test_loss)\n",
    "    val_losses.append(val_loss)\n",
    "\n",
    "    print(\"run\")"
   ]
  },
  {
   "cell_type": "code",
   "execution_count": 79,
   "metadata": {},
   "outputs": [
    {
     "name": "stdout",
     "output_type": "stream",
     "text": [
      "[1, 1, 1, 1, 1, 1, 1, 1, 1, 1, 1, 1, 1, 1, 1, 1, 1, 1, 1, 1, 1, 1, 1, 1, 1, 1, 1, 1, 1, 1, 1, 1, 1, 1, 1, 1, 1, 1, 1, 1, 1, 1, 1, 1, 1, 1, 1, 1, 1, 1, 1, 1, 1, 1, 1, 1, 1, 1, 1, 1, 1, 1, 1, 1, 1, 1, 1, 1, 1, 1, 1, 1, 1, 1, 1, 1, 1, 1, 1, 1, 1, 1, 1, 1, 1, 1, 1, 1, 1, 1, 1, 1, 1, 1, 1, 1, 1, 1, 1, 1]\n"
     ]
    }
   ],
   "source": [
    "# plot_training_progress(\n",
    "#     100, train_losses, val_losses, test_losses, \"title\"\n",
    "# )\n",
    "print(test_losses)"
   ]
  },
  {
   "cell_type": "code",
   "execution_count": null,
   "metadata": {},
   "outputs": [],
   "source": [
    "import matplotlib.pyplot as plt\n",
    "from matplotlib.lines import Line2D\n",
    "\n",
    "plt.figure(figsize=(8, 6))\n",
    "plt.xlabel(\"Epoch\")\n",
    "plt.ylabel(\"Loss\")\n",
    "plt.title(\"Loss vs. Epoch during Training\")\n",
    "plt.grid(True)\n",
    "\n",
    "legend_entries = [\n",
    "    Line2D([0], [0], color=\"blue\", label=\"train_loss (Blue)\"),\n",
    "    Line2D([0], [0], color=\"red\", label=\"validate_loss (Red)\"),\n",
    "    Line2D([0], [0], color=\"green\", label=\"test_loss (Green)\"),\n",
    "]\n",
    "plt.legend(handles=legend_entries, loc=\"upper right\")"
   ]
  }
 ],
 "metadata": {
  "kernelspec": {
   "display_name": "NN",
   "language": "python",
   "name": "python3"
  },
  "language_info": {
   "codemirror_mode": {
    "name": "ipython",
    "version": 3
   },
   "file_extension": ".py",
   "mimetype": "text/x-python",
   "name": "python",
   "nbconvert_exporter": "python",
   "pygments_lexer": "ipython3",
   "version": "3.11.5"
  }
 },
 "nbformat": 4,
 "nbformat_minor": 2
}
