{
 "cells": [
  {
   "cell_type": "code",
   "execution_count": 2,
   "metadata": {},
   "outputs": [],
   "source": [
    "import ase\n",
    "import math\n",
    "\n",
    "from ase.io import read as ase_read\n",
    "from itertools import permutations\n",
    "import numpy as np\n",
    "import copy"
   ]
  },
  {
   "cell_type": "code",
   "execution_count": 46,
   "metadata": {},
   "outputs": [],
   "source": [
    "def get_replace_atomic_numbers(compound, target_atomic_numbers):\n",
    "    \"\"\"\n",
    "    get atomic numbers replaced list from origin one to `target_atomic_numbers` with full permutations.\n",
    "\n",
    "    (e.g, origin: [1,1,1,1,2,2], target_atomic_numbers:[3,4], result:[[3,3,3,3,4,4],[4,4,4,4,3,3]])\n",
    "\n",
    "    (e.g, origin: [1,2,2,2,2,3,3], target_atomic_numbers:[4,5,6], result:[[4,5,5,5,5,6,6],[4,6,6,6,6,5,5],[5,4,4,4,4,6,6],[5,6,6,6,6,4,4],[6,5,5,5,5,4,4],[6,4,4,4,4,5,5]])\n",
    "    \"\"\"\n",
    "    target_atomic_numbers = list(set(target_atomic_numbers))\n",
    "\n",
    "    # full permutations of target_atomic_numbers\n",
    "    targets = [list(i) for i in permutations(target_atomic_numbers, len(target_atomic_numbers))]\n",
    "    # print(\"targets\", targets)\n",
    "\n",
    "    # numpy atomic numbers from original compound\n",
    "    np_atomic_numbers = compound.get_atomic_numbers()\n",
    "    set_atomic_numbers = [i for i in set(np_atomic_numbers)]\n",
    "    # print(np_atomic_numbers)\n",
    "    # print(\"set_atomic_numbers\", set_atomic_numbers)\n",
    "\n",
    "    replace_atomic_numbers = []\n",
    "    for j, target in enumerate(targets):\n",
    "        array = np.array(np_atomic_numbers)\n",
    "        final_array = np.zeros_like(array)\n",
    "        # print(\"================\")\n",
    "        # print(\"原始array\", array)\n",
    "        for i, d in enumerate(set_atomic_numbers):\n",
    "            # print(\"原始件\", d)\n",
    "            # print(\"替换件:\", target[i])\n",
    "            final_array[array == d] = target[i]\n",
    "            # print(\"array\", final_array)\n",
    "        # print(\"最终array\"final_array)\n",
    "        replace_atomic_numbers.append(final_array)\n",
    "\n",
    "    return replace_atomic_numbers\n",
    "\n",
    "\n",
    "def scale_compound_volume(compound, scaling_factor):\n",
    "    \"\"\"\n",
    "    scale the compound by volume\n",
    "    \"\"\"\n",
    "    scaling_factor = scaling_factor ** (1 / 3)\n",
    "    compound.set_cell(compound.cell * scaling_factor, scale_atoms=True)"
   ]
  },
  {
   "cell_type": "code",
   "execution_count": 48,
   "metadata": {},
   "outputs": [
    {
     "name": "stdout",
     "output_type": "stream",
     "text": [
      "origin one, volume: 1488.7 Atoms(symbols='Al28Cu6S48', pbc=True, cell=[[0.0, 12.156754, 0.0], [7.055312, 0.0, 0.0], [0.0, -0.0283210000000006, -17.356902]])\n",
      "num hypothesis scaled compounds: 5\n",
      "num hypothesis atomic numbers group: 6\n",
      "total hypothesis for single origin compound:  30\n"
     ]
    }
   ],
   "source": [
    "# 354 355\n",
    "# 134 130\n",
    "compound = ase_read(\"../../dataset/raw/CONFIG_355.poscar\", format=\"vasp\")\n",
    "scales = [0.96, 0.98, 1.00, 1.02, 1.04]\n",
    "atomic_numbers = [58, 27, 29]\n",
    "# print(\"original pos\", compound.get_positions())\n",
    "print(\"origin one,\", \"volume:\", round(compound.get_volume(), 2), compound)\n",
    "\n",
    "# get scaled compounds\n",
    "scaled_compounds = []\n",
    "for i, d in enumerate(scales):\n",
    "    sacled_compound = copy.deepcopy(compound)\n",
    "    scale_compound_volume(sacled_compound, d)\n",
    "    scaled_compounds.append(sacled_compound)\n",
    "print(\"num hypothesis scaled compounds:\", len(scaled_compounds))\n",
    "\n",
    "# get atomic numbers\n",
    "hypothesis_atomic_numbers = get_replace_atomic_numbers(compound, atomic_numbers)\n",
    "print(\"num hypothesis atomic numbers group:\", len(hypothesis_atomic_numbers))\n",
    "\n",
    "# get hypothesis compounds\n",
    "hypothesis_compounds = []\n",
    "for i, sacled_compound in enumerate(scaled_compounds):\n",
    "    for j, hypothesis_atomic_number in enumerate(hypothesis_atomic_numbers):\n",
    "        compound = copy.deepcopy(sacled_compound)\n",
    "        compound.set_atomic_numbers(hypothesis_atomic_number)\n",
    "        hypothesis_compounds.append(compound)\n",
    "\n",
    "print(\"total hypothesis for single origin compound: \", len(hypothesis_compounds))\n",
    "# [print(\"volume:\", round(i.get_volume(), 2), i) for i in hypothesis_compounds]\n",
    "# [print(\"compound position:\", i.get_positions()) for i in hypothesis_compounds]"
   ]
  }
 ],
 "metadata": {
  "kernelspec": {
   "display_name": "NN",
   "language": "python",
   "name": "python3"
  },
  "language_info": {
   "codemirror_mode": {
    "name": "ipython",
    "version": 3
   },
   "file_extension": ".py",
   "mimetype": "text/x-python",
   "name": "python",
   "nbconvert_exporter": "python",
   "pygments_lexer": "ipython3",
   "version": "3.12.2"
  }
 },
 "nbformat": 4,
 "nbformat_minor": 2
}
