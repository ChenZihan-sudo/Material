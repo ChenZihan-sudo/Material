{
 "cells": [
  {
   "cell_type": "code",
   "execution_count": 17,
   "metadata": {},
   "outputs": [],
   "source": [
    "import torch.nn.functional as F\n",
    "import torch"
   ]
  },
  {
   "cell_type": "code",
   "execution_count": 76,
   "metadata": {},
   "outputs": [
    {
     "name": "stdout",
     "output_type": "stream",
     "text": [
      "{0, 1, 2, 3, 4}\n"
     ]
    }
   ],
   "source": [
    "a = {1, 2, 3, 4}\n",
    "a.update(b)\n",
    "print(a)"
   ]
  },
  {
   "cell_type": "code",
   "execution_count": null,
   "metadata": {},
   "outputs": [],
   "source": [
    "from dataset import read_one_compound_info\n",
    "\n",
    "read_one_compound_info()"
   ]
  },
  {
   "cell_type": "code",
   "execution_count": 65,
   "metadata": {},
   "outputs": [
    {
     "data": {
      "text/plain": [
       "'[{\"7\": [1.0, 0.0, 0.0]}, {\"8\": [0.0, 1.0, 0.0]}, {\"9\": [0.0, 0.0, 1.0]}]'"
      ]
     },
     "execution_count": 65,
     "metadata": {},
     "output_type": "execute_result"
    }
   ],
   "source": [
    "sets = {9, 8, 7}\n",
    "\n",
    "\n",
    "sets = list(sets)\n",
    "sets.sort()\n",
    "\n",
    "from sklearn import preprocessing\n",
    "import json\n",
    "\n",
    "feature = [[d] for _, d in enumerate(sets)]\n",
    "coder = preprocessing.OneHotEncoder()\n",
    "coder.fit(feature)\n",
    "onehots = coder.transform(feature).toarray()\n",
    "array = []\n",
    "for f, o in zip(feature, onehots):\n",
    "    array.append({f[0]: o})\n",
    "\n",
    "# [for i in zip(onehots)]\n",
    "\n",
    "# x = [[1], [2], [4], [5]]\n",
    "# coder.transform(x).toarray()\n",
    "# coder.transform(feature).toarray()"
   ]
  },
  {
   "cell_type": "code",
   "execution_count": 66,
   "metadata": {},
   "outputs": [
    {
     "data": {
      "text/plain": [
       "[{0: array([1., 0., 0., 0., 0., 0., 0.])},\n",
       " {1: array([0., 1., 0., 0., 0., 0., 0.])},\n",
       " {2: array([0., 0., 1., 0., 0., 0., 0.])},\n",
       " {4: array([0., 0., 0., 1., 0., 0., 0.])},\n",
       " {5: array([0., 0., 0., 0., 1., 0., 0.])},\n",
       " {6: array([0., 0., 0., 0., 0., 1., 0.])},\n",
       " {10: array([0., 0., 0., 0., 0., 0., 1.])}]"
      ]
     },
     "execution_count": 66,
     "metadata": {},
     "output_type": "execute_result"
    }
   ],
   "source": [
    "sets = {0, 1, 2, 10, 4, 5, 6}\n",
    "\n",
    "\n",
    "def genOneHotDict(sets):\n",
    "    sets = list(sets)\n",
    "    sets.sort()\n",
    "    from sklearn import preprocessing\n",
    "\n",
    "    feature = [[d] for _, d in enumerate(sets)]\n",
    "    coder = preprocessing.OneHotEncoder()\n",
    "    coder.fit(feature)\n",
    "    onehots = coder.transform(feature).toarray()\n",
    "    array = []\n",
    "    for f, o in zip(feature, onehots):\n",
    "        array.append({f[0]: o})\n",
    "    return array\n",
    "\n",
    "\n",
    "genOneHotDict(sets)"
   ]
  }
 ],
 "metadata": {
  "kernelspec": {
   "display_name": "NN",
   "language": "python",
   "name": "python3"
  },
  "language_info": {
   "codemirror_mode": {
    "name": "ipython",
    "version": 3
   },
   "file_extension": ".py",
   "mimetype": "text/x-python",
   "name": "python",
   "nbconvert_exporter": "python",
   "pygments_lexer": "ipython3",
   "version": "3.11.5"
  }
 },
 "nbformat": 4,
 "nbformat_minor": 2
}
