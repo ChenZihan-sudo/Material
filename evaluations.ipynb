{
 "cells": [
  {
   "cell_type": "code",
   "execution_count": 1,
   "metadata": {},
   "outputs": [
    {
     "name": "stderr",
     "output_type": "stream",
     "text": [
      "/home/catcolia/anaconda3/envs/material/lib/python3.12/site-packages/tqdm/auto.py:21: TqdmWarning: IProgress not found. Please update jupyter and ipywidgets. See https://ipywidgets.readthedocs.io/en/stable/user_install.html\n",
      "  from .autonotebook import tqdm as notebook_tqdm\n"
     ]
    }
   ],
   "source": [
    "import torch\n",
    "import tqdm\n",
    "import math\n",
    "import numpy as np\n",
    "\n",
    "from args import *\n",
    "from dataset import *\n",
    "from model import CEALNetwork, GCNNetwork, load_model\n",
    "\n",
    "import os.path as osp\n",
    "from train import make_data_loader, train_step, test_evaluations\n",
    "\n",
    "from module.madgap import *"
   ]
  },
  {
   "cell_type": "markdown",
   "metadata": {},
   "source": [
    "Prepare evaluation"
   ]
  },
  {
   "cell_type": "code",
   "execution_count": 2,
   "metadata": {},
   "outputs": [
    {
     "name": "stdout",
     "output_type": "stream",
     "text": [
      "ok\n"
     ]
    }
   ],
   "source": [
    "train_dataset, validation_dataset, test_dataset = make_dataset()\n",
    "train_loader, val_loader, test_loader = make_data_loader(train_dataset, validation_dataset, test_dataset)\n",
    "\n",
    "model, model_data = load_model(osp.join(args[\"result_path\"], \"CEAL/1716963786873904\"))\n",
    "model.eval()\n",
    "\n",
    "print(\"ok\")"
   ]
  },
  {
   "cell_type": "markdown",
   "metadata": {},
   "source": [
    "Calculate the MAD"
   ]
  },
  {
   "cell_type": "code",
   "execution_count": 3,
   "metadata": {},
   "outputs": [
    {
     "name": "stdout",
     "output_type": "stream",
     "text": [
      "torch.Size([5449, 100])\n",
      "torch.Size([5946, 100])\n",
      "torch.Size([5310, 100])\n",
      "torch.Size([5300, 100])\n",
      "torch.Size([5393, 100])\n",
      "torch.Size([5134, 100])\n",
      "torch.Size([5590, 100])\n",
      "torch.Size([5890, 100])\n",
      "torch.Size([5679, 100])\n",
      "torch.Size([5417, 100])\n",
      "torch.Size([5136, 100])\n",
      "torch.Size([4932, 100])\n",
      "torch.Size([6012, 100])\n"
     ]
    },
    {
     "ename": "KeyboardInterrupt",
     "evalue": "",
     "output_type": "error",
     "traceback": [
      "\u001b[0;31m---------------------------------------------------------------------------\u001b[0m",
      "\u001b[0;31mKeyboardInterrupt\u001b[0m                         Traceback (most recent call last)",
      "Cell \u001b[0;32mIn[3], line 9\u001b[0m\n\u001b[1;32m      5\u001b[0m node_embeddings \u001b[38;5;241m=\u001b[39m model(batch_data, node_embedding\u001b[38;5;241m=\u001b[39m\u001b[38;5;28;01mTrue\u001b[39;00m)\n\u001b[1;32m      7\u001b[0m \u001b[38;5;28mprint\u001b[39m(node_embeddings\u001b[38;5;241m.\u001b[39mshape)\n\u001b[0;32m----> 9\u001b[0m in_arr \u001b[38;5;241m=\u001b[39m \u001b[43mnode_embeddings\u001b[49m\u001b[38;5;241;43m.\u001b[39;49m\u001b[43mcpu\u001b[49m\u001b[43m(\u001b[49m\u001b[43m)\u001b[49m\u001b[38;5;241m.\u001b[39mdetach()\u001b[38;5;241m.\u001b[39mnumpy()\n\u001b[1;32m     11\u001b[0m num_nodes \u001b[38;5;241m=\u001b[39m batch_data\u001b[38;5;241m.\u001b[39mx\u001b[38;5;241m.\u001b[39mshape[\u001b[38;5;241m0\u001b[39m]\n\u001b[1;32m     12\u001b[0m adj \u001b[38;5;241m=\u001b[39m torch\u001b[38;5;241m.\u001b[39mzeros((num_nodes, num_nodes))\n",
      "\u001b[0;31mKeyboardInterrupt\u001b[0m: "
     ]
    }
   ],
   "source": [
    "mad_total = 0.0\n",
    "with torch.no_grad():\n",
    "    for i, batch_data in enumerate(train_loader):\n",
    "        batch_data.to(get_device())\n",
    "        node_embeddings = model(batch_data, node_embedding=True)\n",
    "\n",
    "        print(node_embeddings.shape)\n",
    "        \n",
    "        in_arr = node_embeddings.cpu().detach().numpy()\n",
    "\n",
    "        num_nodes = batch_data.x.shape[0]\n",
    "        adj = torch.zeros((num_nodes, num_nodes))\n",
    "        adj[batch_data.edge_index[0], batch_data.edge_index[1]] = 1\n",
    "        mask_arr = adj.numpy()\n",
    "\n",
    "        mad_single = mad_value(in_arr, mask_arr)\n",
    "        mad_total += mad_single\n",
    "        torch.cuda.empty_cache()\n",
    "        # print(i, \"single MAD:\", mad_single)\n",
    "\n",
    "print(\"MAD:\", mad_total / (i + 1))"
   ]
  },
  {
   "cell_type": "markdown",
   "metadata": {},
   "source": [
    "Calculate the reachable nodes"
   ]
  },
  {
   "cell_type": "code",
   "execution_count": 5,
   "metadata": {},
   "outputs": [],
   "source": [
    "def reachable_nodes(num_nodes, edge_index, num_layers=1, ret_mat=False, device=get_device()):\n",
    "    adj = torch.tensor(np.zeros(num_nodes), dtype=int).to(device)\n",
    "    adj[edge_index[0], edge_index[1]] = 1\n",
    "    if num_layers == 1:\n",
    "        return torch.sum(adj, dim=0).to(device) if ret_mat is False else adj\n",
    "\n",
    "    res_adj = adj\n",
    "\n",
    "    for i in range(0, num_layers - 1):\n",
    "        columns = []\n",
    "        for column in range(0, num_nodes):\n",
    "            # get column data\n",
    "            data = torch.where(res_adj[column] > 0)[0].to(device)\n",
    "            # get all node index data\n",
    "            data = torch.where(torch.sum(adj[data], dim=0) > 0)[0].to(device)\n",
    "\n",
    "            line = torch.zeros(num_nodes, dtype=int).to(device)\n",
    "            line[data] = 1\n",
    "            columns.append(line)\n",
    "        res_adj = torch.stack(columns).to(device)\n",
    "\n",
    "    return torch.sum(res_adj, dim=0).to(device) if ret_mat is False else res_adj\n",
    "\n",
    "\n",
    "def get_reachable_nodes(total_graphs, dataloader, num_layers, device=get_device()):\n",
    "    predict_epochs = math.ceil(total_graphs / args[\"batch_size\"])\n",
    "    pbar = tqdm(total=predict_epochs)\n",
    "    pbar.set_description(\"Progress\")\n",
    "\n",
    "    total_num_nodes = 0\n",
    "    total_reachable_nodes = 0\n",
    "\n",
    "    for i, batch_data in enumerate(dataloader):\n",
    "        num_nodes = batch_data.num_nodes\n",
    "        edge_index = batch_data.edge_index.to(device)\n",
    "\n",
    "        batch_reachable_nodes = torch.sum(reachable_nodes(num_nodes, edge_index, num_layers, ret_mat=False, device=device), dim=0)\n",
    "        total_reachable_nodes += batch_reachable_nodes\n",
    "\n",
    "        total_num_nodes += num_nodes\n",
    "        \n",
    "        torch.cuda.empty_cache()\n",
    "        pbar.update(1)\n",
    "    pbar.close()\n",
    "\n",
    "    avg_reachable_nodes = (total_reachable_nodes / total_num_nodes).item()\n",
    "    avg_nodes_on_graph = total_num_nodes / total_graphs\n",
    "    print(f\"Layer {num_layers}\")\n",
    "    print(\"Average reachable nodes:\", avg_reachable_nodes)\n",
    "    print(\"Average nodes on a graph:\", avg_nodes_on_graph)\n",
    "    print(f\"=================================\")\n",
    "\n",
    "    return avg_reachable_nodes, avg_nodes_on_graph"
   ]
  },
  {
   "cell_type": "code",
   "execution_count": 6,
   "metadata": {},
   "outputs": [
    {
     "name": "stderr",
     "output_type": "stream",
     "text": []
    },
    {
     "ename": "AttributeError",
     "evalue": "'int' object has no attribute 'shape'",
     "output_type": "error",
     "traceback": [
      "\u001b[0;31m---------------------------------------------------------------------------\u001b[0m",
      "\u001b[0;31mAttributeError\u001b[0m                            Traceback (most recent call last)",
      "Cell \u001b[0;32mIn[6], line 1\u001b[0m\n\u001b[0;32m----> 1\u001b[0m \u001b[43mget_reachable_nodes\u001b[49m\u001b[43m(\u001b[49m\u001b[38;5;28;43mlen\u001b[39;49m\u001b[43m(\u001b[49m\u001b[43mtrain_dataset\u001b[49m\u001b[43m)\u001b[49m\u001b[43m,\u001b[49m\u001b[43m \u001b[49m\u001b[43mtrain_loader\u001b[49m\u001b[43m,\u001b[49m\u001b[43m \u001b[49m\u001b[38;5;241;43m1\u001b[39;49m\u001b[43m)\u001b[49m\n",
      "Cell \u001b[0;32mIn[5], line 38\u001b[0m, in \u001b[0;36mget_reachable_nodes\u001b[0;34m(total_graphs, dataloader, num_layers, device)\u001b[0m\n\u001b[1;32m     35\u001b[0m num_nodes \u001b[38;5;241m=\u001b[39m batch_data\u001b[38;5;241m.\u001b[39mnum_nodes\n\u001b[1;32m     36\u001b[0m edge_index \u001b[38;5;241m=\u001b[39m batch_data\u001b[38;5;241m.\u001b[39medge_index\u001b[38;5;241m.\u001b[39mto(device)\n\u001b[0;32m---> 38\u001b[0m batch_reachable_nodes \u001b[38;5;241m=\u001b[39m torch\u001b[38;5;241m.\u001b[39msum(\u001b[43mreachable_nodes\u001b[49m\u001b[43m(\u001b[49m\u001b[43mnum_nodes\u001b[49m\u001b[43m,\u001b[49m\u001b[43m \u001b[49m\u001b[43medge_index\u001b[49m\u001b[43m,\u001b[49m\u001b[43m \u001b[49m\u001b[43mnum_layers\u001b[49m\u001b[43m,\u001b[49m\u001b[43m \u001b[49m\u001b[43mret_mat\u001b[49m\u001b[38;5;241;43m=\u001b[39;49m\u001b[38;5;28;43;01mFalse\u001b[39;49;00m\u001b[43m,\u001b[49m\u001b[43m \u001b[49m\u001b[43mdevice\u001b[49m\u001b[38;5;241;43m=\u001b[39;49m\u001b[43mdevice\u001b[49m\u001b[43m)\u001b[49m, dim\u001b[38;5;241m=\u001b[39m\u001b[38;5;241m0\u001b[39m)\n\u001b[1;32m     39\u001b[0m total_reachable_nodes \u001b[38;5;241m+\u001b[39m\u001b[38;5;241m=\u001b[39m batch_reachable_nodes\n\u001b[1;32m     41\u001b[0m total_num_nodes \u001b[38;5;241m+\u001b[39m\u001b[38;5;241m=\u001b[39m num_nodes\n",
      "Cell \u001b[0;32mIn[5], line 2\u001b[0m, in \u001b[0;36mreachable_nodes\u001b[0;34m(num_nodes, edge_index, num_layers, ret_mat, device)\u001b[0m\n\u001b[1;32m      1\u001b[0m \u001b[38;5;28;01mdef\u001b[39;00m \u001b[38;5;21mreachable_nodes\u001b[39m(num_nodes, edge_index, num_layers\u001b[38;5;241m=\u001b[39m\u001b[38;5;241m1\u001b[39m, ret_mat\u001b[38;5;241m=\u001b[39m\u001b[38;5;28;01mFalse\u001b[39;00m, device\u001b[38;5;241m=\u001b[39mget_device()):\n\u001b[0;32m----> 2\u001b[0m     adj \u001b[38;5;241m=\u001b[39m torch\u001b[38;5;241m.\u001b[39mtensor(np\u001b[38;5;241m.\u001b[39mzeros(\u001b[43mnum_nodes\u001b[49m\u001b[38;5;241;43m.\u001b[39;49m\u001b[43mshape\u001b[49m), dtype\u001b[38;5;241m=\u001b[39m\u001b[38;5;28mint\u001b[39m)\u001b[38;5;241m.\u001b[39mto(device)\n\u001b[1;32m      3\u001b[0m     \u001b[38;5;28mprint\u001b[39m(adj)\n\u001b[1;32m      4\u001b[0m     adj[edge_index[\u001b[38;5;241m0\u001b[39m], edge_index[\u001b[38;5;241m1\u001b[39m]] \u001b[38;5;241m=\u001b[39m \u001b[38;5;241m1\u001b[39m\n",
      "\u001b[0;31mAttributeError\u001b[0m: 'int' object has no attribute 'shape'"
     ]
    }
   ],
   "source": [
    "get_reachable_nodes(len(train_dataset), train_loader, 1)"
   ]
  },
  {
   "cell_type": "markdown",
   "metadata": {},
   "source": [
    "Calculate the shared reachable nodes"
   ]
  },
  {
   "cell_type": "code",
   "execution_count": 103,
   "metadata": {},
   "outputs": [
    {
     "name": "stderr",
     "output_type": "stream",
     "text": [
      "Progress:   1%|          | 1/126 [00:06<14:18,  6.87s/it]\n"
     ]
    },
    {
     "name": "stdout",
     "output_type": "stream",
     "text": [
      "tensor([4, 4, 4, 4, 4, 4, 4, 4], device='cuda:0')\n"
     ]
    },
    {
     "name": "stderr",
     "output_type": "stream",
     "text": [
      "Progress:   1%|          | 1/126 [00:00<00:01, 110.63it/s]\n",
      "Progress:   0%|          | 0/126 [00:00<?, ?it/s]"
     ]
    },
    {
     "name": "stdout",
     "output_type": "stream",
     "text": [
      "tensor([4, 4, 4, 4, 4, 4, 4, 4], device='cuda:0')\n"
     ]
    }
   ],
   "source": [
    "# def get_shared_reachable_nodes(total_graphs, dataloader, num_layers, device=get_device()):\n",
    "\n",
    "total_graphs = len(train_dataset)\n",
    "dataloader = train_loader\n",
    "num_layers = 2\n",
    "device = get_device()\n",
    "\n",
    "\n",
    "predict_epochs = math.ceil(total_graphs / args[\"batch_size\"])\n",
    "pbar = tqdm(total=predict_epochs)\n",
    "pbar.set_description(\"Progress\")\n",
    "\n",
    "total_num_nodes = 0\n",
    "total_reachable_nodes = 0\n",
    "\n",
    "for i, data in enumerate(train_dataset):\n",
    "    data = train_dataset[1]\n",
    "    num_nodes = data.num_nodes\n",
    "    edge_index = data.edge_index.to(device)\n",
    "\n",
    "    batch_shared_reachable_nodes = reachable_nodes(num_nodes, edge_index, num_layers, ret_mat=False, device=device)\n",
    "    print(batch_shared_reachable_nodes)\n",
    "    # total_reachable_nodes += batch_shared_reachable_nodes\n",
    "\n",
    "    total_num_nodes += num_nodes\n",
    "\n",
    "    torch.cuda.empty_cache()\n",
    "    pbar.update(1)\n",
    "\n",
    "    # if i == 10:\n",
    "    break\n",
    "# pbar.close()\n",
    "\n",
    "# avg_reachable_nodes = (total_reachable_nodes / total_num_nodes).item()\n",
    "# avg_nodes_on_graph = total_num_nodes / total_graphs\n",
    "# print(f\"Layer {num_layers}\")\n",
    "# print(\"Average reachable nodes:\", avg_reachable_nodes)\n",
    "# print(\"Average nodes on a graph:\", avg_nodes_on_graph)\n",
    "# print(f\"=================================\")\n",
    "\n",
    "# return avg_reachable_nodes, avg_nodes_on_graph# def get_shared_reachable_nodes(total_graphs, dataloader, num_layers, device=get_device()):\n",
    "\n",
    "total_graphs = len(train_dataset)\n",
    "dataloader = train_loader\n",
    "num_layers = 2\n",
    "device = get_device()\n",
    "\n",
    "\n",
    "predict_epochs = math.ceil(total_graphs / args[\"batch_size\"])\n",
    "pbar = tqdm(total=predict_epochs)\n",
    "pbar.set_description(\"Progress\")\n",
    "\n",
    "total_num_nodes = 0\n",
    "total_reachable_nodes = 0\n",
    "\n",
    "for i, data in enumerate(train_dataset):\n",
    "    data = train_dataset[1]\n",
    "    num_nodes = data.num_nodes\n",
    "    edge_index = data.edge_index.to(device)\n",
    "\n",
    "    batch_shared_reachable_nodes = reachable_nodes(num_nodes, edge_index, num_layers, ret_mat=False, device=device)\n",
    "    print(batch_shared_reachable_nodes)\n",
    "    # total_reachable_nodes += batch_shared_reachable_nodes\n",
    "\n",
    "    total_num_nodes += num_nodes\n",
    "\n",
    "    torch.cuda.empty_cache()\n",
    "    pbar.update(1)\n",
    "\n",
    "    # if i == 10:\n",
    "    break\n",
    "# pbar.close()\n",
    "\n",
    "# avg_reachable_nodes = (total_reachable_nodes / total_num_nodes).item()\n",
    "# avg_nodes_on_graph = total_num_nodes / total_graphs\n",
    "# print(f\"Layer {num_layers}\")\n",
    "# print(\"Average reachable nodes:\", avg_reachable_nodes)\n",
    "# print(\"Average nodes on a graph:\", avg_nodes_on_graph)\n",
    "# print(f\"=================================\")\n",
    "\n",
    "# return avg_reachable_nodes, avg_nodes_on_graph"
   ]
  },
  {
   "cell_type": "code",
   "execution_count": 25,
   "metadata": {},
   "outputs": [
    {
     "name": "stdout",
     "output_type": "stream",
     "text": [
      "tensor([ True,  True, False,  True,  True])\n"
     ]
    }
   ],
   "source": [
    "reachability = torch.tensor(np.array([[1, 1, 0, 1, 1], [1, 1, 1, 1, 1], [1, 1, 1, 1, 1], [1, 1, 1, 1, 1]], dtype=bool))\n",
    "\n",
    "# 使用 np.all 检查每个节点在所有节点之间是否都可达\n",
    "overlapping_nodes = torch.all(reachability, axis=0)\n",
    "print(overlapping_nodes)"
   ]
  }
 ],
 "metadata": {
  "kernelspec": {
   "display_name": "material",
   "language": "python",
   "name": "python3"
  },
  "language_info": {
   "codemirror_mode": {
    "name": "ipython",
    "version": 3
   },
   "file_extension": ".py",
   "mimetype": "text/x-python",
   "name": "python",
   "nbconvert_exporter": "python",
   "pygments_lexer": "ipython3",
   "version": "3.12.2"
  }
 },
 "nbformat": 4,
 "nbformat_minor": 2
}
