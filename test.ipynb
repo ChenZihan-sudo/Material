{
 "cells": [
  {
   "cell_type": "code",
   "execution_count": 1,
   "metadata": {},
   "outputs": [
    {
     "name": "stdout",
     "output_type": "stream",
     "text": [
      "No module named 'phonopy'\n",
      "No module named 'phonopy'\n",
      "{'raw_dir': './dataset/raw', 'processed_dir': './dataset/processed', 'max_cutoff_distance': 5.0, 'chunk_size': 1000, 'num_chunks': None, 'hypothesis_dataset': {'scales': [0.96, 0.98, 1.0, 1.02, 1.04], 'atomic_numbers': [58, 27, 29], 'data_filename': 'hypo_data', 'split_data': 10}, 'trainset_ratio': 0.6, 'valset_ratio': 0.2, 'testset_ratio': 0.2, 'split_dataset_seed': 1024, 'batch_size': 512, 'data_loader_shuffle': True, 'data_loader_seed': 1024, 'num_workers': 0, 'GCN': {'conv_out_dim': 100, 'num_layers': 1, 'num_pre_fc': 2, 'pre_fc_dim': 200, 'num_post_fc': 2, 'post_fc_dim': 200, 'dropout_rate': 0.6, 'epochs': 1000, 'learning_rate': 0.01, 'sche_mode': 'min', 'sche_factor': 0.8, 'sche_patience': 20, 'sche_min_lr': 1e-08}, 'CEAL': {'aggregators': ['sum', 'mean', 'min', 'max', 'std'], 'scalers': ['identity'], 'edge_dim': 1, 'towers': 1, 'pre_layers': 1, 'post_layers': 1, 'divide_input': False, 'aggMLP': True, 'conv_out_dim': 50, 'num_layers': 2, 'num_pre_fc': 1, 'pre_fc_dim': 100, 'num_post_fc': 1, 'post_fc_dim': 100, 'dropout_rate': 0.3, 'epochs': 10000, 'learning_rate': 0.01, 'sche_mode': 'min', 'sche_factor': 0.85, 'sche_patience': 25, 'sche_min_lr': 1e-08}}\n",
      "['hypo_data_1.pt', 'hypo_data_2.pt', 'hypo_data_3.pt', 'hypo_data_4.pt', 'hypo_data_5.pt', 'hypo_data_6.pt', 'hypo_data_7.pt', 'hypo_data_8.pt', 'hypo_data_9.pt', 'hypo_data_10.pt']\n"
     ]
    }
   ],
   "source": [
    "from dataset import *\n",
    "from args import *\n",
    "\n",
    "print(args)\n",
    "a = HypoDataset(DATASET_DIR, args)"
   ]
  },
  {
   "cell_type": "code",
   "execution_count": 1,
   "metadata": {},
   "outputs": [
    {
     "name": "stdout",
     "output_type": "stream",
     "text": [
      "No module named 'phonopy'\n",
      "No module named 'phonopy'\n"
     ]
    }
   ],
   "source": [
    "import torch\n",
    "from args import *\n",
    "import os.path as osp\n",
    "from dataset import MPDataset, make_dataset"
   ]
  },
  {
   "cell_type": "code",
   "execution_count": 6,
   "metadata": {},
   "outputs": [
    {
     "name": "stdout",
     "output_type": "stream",
     "text": [
      "41819\n"
     ]
    },
    {
     "data": {
      "text/plain": [
       "MPDataset()"
      ]
     },
     "execution_count": 6,
     "metadata": {},
     "output_type": "execute_result"
    }
   ],
   "source": [
    "path = osp.join(DATASET_PROCESSED_DIR, \"data.pt\")\n",
    "data_list = torch.load(path)\n",
    "print(len(data_list))"
   ]
  },
  {
   "cell_type": "code",
   "execution_count": 7,
   "metadata": {},
   "outputs": [],
   "source": [
    "path = osp.join(DATASET_PROCESSED_DIR, \"data_tuple.pt\")\n",
    "MPDataset(args).save(data_list, path)"
   ]
  }
 ],
 "metadata": {
  "kernelspec": {
   "display_name": "NN",
   "language": "python",
   "name": "python3"
  },
  "language_info": {
   "codemirror_mode": {
    "name": "ipython",
    "version": 3
   },
   "file_extension": ".py",
   "mimetype": "text/x-python",
   "name": "python",
   "nbconvert_exporter": "python",
   "pygments_lexer": "ipython3",
   "version": "3.12.3"
  }
 },
 "nbformat": 4,
 "nbformat_minor": 2
}
